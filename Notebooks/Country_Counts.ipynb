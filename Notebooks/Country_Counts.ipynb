{
 "cells": [
  {
   "cell_type": "code",
   "execution_count": 187,
   "metadata": {
    "collapsed": true
   },
   "outputs": [],
   "source": [
    "import pandas as pd\n",
    "import numpy as np"
   ]
  },
  {
   "cell_type": "code",
   "execution_count": 218,
   "metadata": {},
   "outputs": [],
   "source": [
    "df_all = pd.read_excel('../data/AIMS All Docs and Mnt Adapt Focused.xlsx', sheetname='All Docs', header=1)\n",
    "df_mtn = pd.read_excel('../data/AIMS All Docs and Mnt Adapt Focused.xlsx', sheetname='Mnt Adaptations', header=1)"
   ]
  },
  {
   "cell_type": "code",
   "execution_count": 219,
   "metadata": {},
   "outputs": [],
   "source": [
    "data = df_all.copy()\n",
    "data['Q 11.'] = data['Q 11.'].str.replace(',', ';')\n",
    "exclusions = ['Blue = Peru', 'Green = Nepal', 'Orange = Both', 'Red = manually updated']\n",
    "data = data[-data['Q 11.'].isin(exclusions)]\n",
    "\n",
    "countries = data['Q 11.'].str.split(';', expand=True)\n",
    "\n",
    "def observation_count(data, subset='AllStudies', level='observations'):\n",
    "    \"\"\"\n",
    "    Counts the number of times an ISO code is referenced\n",
    "    As per observations\n",
    "    params: data - pandas dataframe\n",
    "    params: subset - how to subset the data ('PR', 'GL')\n",
    "    \"\"\"\n",
    "    if subset is not 'AllStudies':\n",
    "        data = data.loc[data['Dcoument Type'] == subset]\n",
    "    else:\n",
    "        pass\n",
    "    \n",
    "    data['Q 11.'] = data['Q 11.'].str.replace(',', ';')\n",
    "    exclusions = ['Blue = Peru', 'Green = Nepal', 'Orange = Both', 'Red = manually updated']\n",
    "    data = data[-data['Q 11.'].isin(exclusions)]\n",
    "    \n",
    "    \n",
    "    if level is 'observations':\n",
    "\n",
    "        countries = data['Q 11.'].str.split(';', expand=True)\n",
    "        countries = pd.DataFrame(countries.as_matrix().ravel())\n",
    "        countries.columns = ['ISO']\n",
    "        countries['ISO'] = countries['ISO'].str.strip()\n",
    "        countries = pd.DataFrame(countries['ISO'].value_counts()).reset_index()\n",
    "        countries.columns = ['ISO', 'Count']\n",
    "        countries = countries.dropna()\n",
    "        countries = countries.loc[countries['ISO'] !='nan']\n",
    "\n",
    "        \n",
    "    else:\n",
    "        \n",
    "        countries = data['Q 11.'].str.split(';', expand=True)\n",
    "        countries['DOI/UID'] = data['DOI/UID']\n",
    "\n",
    "        for c in countries.columns[:-1]:\n",
    "            countries[c] = countries[c].astype(str) + '_' + countries['DOI/UID'].astype(str)\n",
    "            countries[c] = np.where(-countries[c].str.contains('None'), countries[c], np.nan)\n",
    "            countries[c] = countries[c].str.strip()\n",
    "\n",
    "        countries = pd.DataFrame(np.unique(countries.as_matrix().ravel()))\n",
    "        countries = countries[0].str.split('_', expand=True)\n",
    "        countries = countries.dropna()\n",
    "        countries.columns = ['ISO', 'DOI']    \n",
    "        countries['ISO'] = countries['ISO'].str.strip()\n",
    "        countries = pd.DataFrame(countries['ISO'].value_counts()).reset_index()\n",
    "        countries.columns = ['ISO', 'Count']\n",
    "        countries = countries.dropna()\n",
    "        countries = countries.loc[countries['ISO'] !='nan']\n",
    "        \n",
    "    return countries"
   ]
  },
  {
   "cell_type": "code",
   "execution_count": 222,
   "metadata": {
    "scrolled": false
   },
   "outputs": [
    {
     "name": "stderr",
     "output_type": "stream",
     "text": [
      "/Users/Vinny_Ricciardi/virtenvs/py2_geocode_update/lib/python2.7/site-packages/ipykernel_launcher.py:20: SettingWithCopyWarning: \n",
      "A value is trying to be set on a copy of a slice from a DataFrame.\n",
      "Try using .loc[row_indexer,col_indexer] = value instead\n",
      "\n",
      "See the caveats in the documentation: http://pandas.pydata.org/pandas-docs/stable/indexing.html#indexing-view-versus-copy\n"
     ]
    },
    {
     "name": "stdout",
     "output_type": "stream",
     "text": [
      "21 Mountain PR observations\n",
      "21 Mountain PR studies\n",
      "15 Mountain GL observations\n",
      "15 Mountain GL studies\n",
      "27 Mountain AllStudies observations\n",
      "27 Mountain AllStudies studies\n",
      "33 All PR observations\n",
      "33 All PR studies\n",
      "28 All GL observations\n",
      "28 All GL studies\n",
      "42 All AllStudies observations\n",
      "42 All AllStudies studies\n"
     ]
    }
   ],
   "source": [
    "subsets = ['PR', 'GL', 'AllStudies']\n",
    "levels = ['observations', 'studies']\n",
    "datasets = {'All': df_all, \n",
    "            'Mountain': df_mtn}\n",
    "\n",
    "for name, dataset in datasets.iteritems():\n",
    "\n",
    "    for subset in subsets:\n",
    "        \n",
    "        for level in levels:\n",
    "            \n",
    "            out = observation_count(dataset, subset=subset, level=level)\n",
    "            out = out.set_index('ISO')\n",
    "            out.to_csv('../data/country_counts_{}_{}_{}.csv'.format(name, subset, level))\n",
    "            \n",
    "            print len(out), name, subset, level"
   ]
  },
  {
   "cell_type": "code",
   "execution_count": null,
   "metadata": {
    "collapsed": true
   },
   "outputs": [],
   "source": []
  },
  {
   "cell_type": "code",
   "execution_count": null,
   "metadata": {
    "collapsed": true
   },
   "outputs": [],
   "source": []
  },
  {
   "cell_type": "code",
   "execution_count": null,
   "metadata": {
    "collapsed": true
   },
   "outputs": [],
   "source": []
  },
  {
   "cell_type": "code",
   "execution_count": null,
   "metadata": {
    "collapsed": true
   },
   "outputs": [],
   "source": []
  }
 ],
 "metadata": {
  "kernelspec": {
   "display_name": "py2_geocode_update",
   "language": "python",
   "name": "py2_geocode_update"
  },
  "language_info": {
   "codemirror_mode": {
    "name": "ipython",
    "version": 2
   },
   "file_extension": ".py",
   "mimetype": "text/x-python",
   "name": "python",
   "nbconvert_exporter": "python",
   "pygments_lexer": "ipython2",
   "version": "2.7.14"
  },
  "toc": {
   "nav_menu": {},
   "number_sections": true,
   "sideBar": true,
   "skip_h1_title": false,
   "title_cell": "Table of Contents",
   "title_sidebar": "Contents",
   "toc_cell": false,
   "toc_position": {},
   "toc_section_display": true,
   "toc_window_display": true
  }
 },
 "nbformat": 4,
 "nbformat_minor": 2
}
