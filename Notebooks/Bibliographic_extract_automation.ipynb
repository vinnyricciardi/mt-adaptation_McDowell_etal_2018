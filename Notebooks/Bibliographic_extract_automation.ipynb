{
 "cells": [
  {
   "cell_type": "code",
   "execution_count": 1,
   "metadata": {
    "collapsed": true
   },
   "outputs": [],
   "source": [
    "import pandas as pd\n",
    "import numpy as np\n",
    "import xmltodict"
   ]
  },
  {
   "cell_type": "code",
   "execution_count": 9,
   "metadata": {},
   "outputs": [
    {
     "data": {
      "text/html": [
       "<div>\n",
       "<table border=\"1\" class=\"dataframe\">\n",
       "  <thead>\n",
       "    <tr style=\"text-align: right;\">\n",
       "      <th></th>\n",
       "      <th>Abstract</th>\n",
       "      <th>StudyID</th>\n",
       "    </tr>\n",
       "  </thead>\n",
       "  <tbody>\n",
       "    <tr>\n",
       "      <th>0</th>\n",
       "      <td>Abstract Recent studies of future food product...</td>\n",
       "      <td>10.1659/MRD-JOURNAL-D-12-00025.1</td>\n",
       "    </tr>\n",
       "    <tr>\n",
       "      <th>1</th>\n",
       "      <td>An interdisciplinary study was conducted in th...</td>\n",
       "      <td>http://10.1007/s11077-012-9168-4</td>\n",
       "    </tr>\n",
       "    <tr>\n",
       "      <th>2</th>\n",
       "      <td>Current debate on the implementation of resili...</td>\n",
       "      <td>10.3390/su8090905</td>\n",
       "    </tr>\n",
       "    <tr>\n",
       "      <th>3</th>\n",
       "      <td>In recent years, an increasing number of local...</td>\n",
       "      <td>https://doi.org/10.1016/j.gloenvcha.2014.05.010</td>\n",
       "    </tr>\n",
       "    <tr>\n",
       "      <th>4</th>\n",
       "      <td>The implications of environmental change for m...</td>\n",
       "      <td>10.1007/s11111-010-0126-9</td>\n",
       "    </tr>\n",
       "  </tbody>\n",
       "</table>\n",
       "</div>"
      ],
      "text/plain": [
       "                                            Abstract  \\\n",
       "0  Abstract Recent studies of future food product...   \n",
       "1  An interdisciplinary study was conducted in th...   \n",
       "2  Current debate on the implementation of resili...   \n",
       "3  In recent years, an increasing number of local...   \n",
       "4  The implications of environmental change for m...   \n",
       "\n",
       "                                           StudyID  \n",
       "0                 10.1659/MRD-JOURNAL-D-12-00025.1  \n",
       "1                 http://10.1007/s11077-012-9168-4  \n",
       "2                                10.3390/su8090905  \n",
       "3  https://doi.org/10.1016/j.gloenvcha.2014.05.010  \n",
       "4                        10.1007/s11111-010-0126-9  "
      ]
     },
     "execution_count": 9,
     "metadata": {},
     "output_type": "execute_result"
    }
   ],
   "source": [
    "df = pd.read_csv('../shinyapp2/data.csv')\n",
    "xml = '../data/Article_database/EndNote_metadata.xml'\n",
    "\n",
    "with open(xml) as fd:\n",
    "    doc = xmltodict.parse(fd.read())\n",
    "\n",
    "dois = []\n",
    "abstracts = []\n",
    "\n",
    "for i in xrange(len(doc['xml']['records']['record'])):\n",
    "    \n",
    "    try:\n",
    "        doi = doc['xml']['records']['record'][i]['electronic-resource-num']['style']['#text']\n",
    "        abstract = doc['xml']['records']['record'][i]['abstract']['style']['#text']\n",
    "    except:\n",
    "        doi = np.nan\n",
    "        abstract = np.nan\n",
    "    \n",
    "    dois.append(doi)\n",
    "    abstracts.append(abstract)\n",
    "\n",
    "out = pd.DataFrame({\n",
    "    'StudyID': dois,\n",
    "    'Abstract': abstracts\n",
    "})\n",
    "\n",
    "\n",
    "out['StudyID'] = out['StudyID'].str.replace('dx.doi.org/', '')\n",
    "out['StudyID'] = out['StudyID'].str.replace('doi.org/', '')\n",
    "\n",
    "df['StudyID'] = df['StudyID'].str.replace('dx.doi.org/', '')\n",
    "df['StudyID'] = df['StudyID'].str.replace('doi.org/', '')\n",
    "df['StudyID'] = np.where(df['StudyID'].str.slice(0,3) == \"10.\", df['StudyID'], np.nan)\n",
    "\n",
    "df = pd.merge(df, out, on='StudyID', how='outer')"
   ]
  },
  {
   "cell_type": "code",
   "execution_count": null,
   "metadata": {
    "collapsed": true
   },
   "outputs": [],
   "source": []
  }
 ],
 "metadata": {
  "kernelspec": {
   "display_name": "py2_geocode_update",
   "language": "python",
   "name": "py2_geocode_update"
  },
  "language_info": {
   "codemirror_mode": {
    "name": "ipython",
    "version": 2
   },
   "file_extension": ".py",
   "mimetype": "text/x-python",
   "name": "python",
   "nbconvert_exporter": "python",
   "pygments_lexer": "ipython2",
   "version": "2.7.14"
  },
  "toc": {
   "nav_menu": {},
   "number_sections": true,
   "sideBar": true,
   "skip_h1_title": false,
   "title_cell": "Table of Contents",
   "title_sidebar": "Contents",
   "toc_cell": false,
   "toc_position": {},
   "toc_section_display": true,
   "toc_window_display": true
  }
 },
 "nbformat": 4,
 "nbformat_minor": 2
}
